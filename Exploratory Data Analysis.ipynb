{
 "cells": [
  {
   "cell_type": "markdown",
   "metadata": {},
   "source": [
    "# Enhanced Exploratory Data Analysis (EDA) for Housing Data\n",
    "\n",
    "This notebook performs an in-depth exploratory data analysis on the Housing dataset. The goal is to understand the relationships between different features and the house price, and to prepare the data for potential machine learning modeling."
   ]
  },
  {
   "cell_type": "markdown",
   "metadata": {},
   "source": [
    "## 1. Load and Inspect Data\n",
    "\n",
    "The first step is to load the necessary libraries and the dataset. We will then perform an initial inspection to understand its structure, data types, and basic statistics."
   ]
  },
  {
   "cell_type": "markdown",
   "metadata": {},
   "source": [
    "### 1.1 Import Libraries"
   ]
  },
  {
   "cell_type": "code",
   "execution_count": null,
   "metadata": {},
   "outputs": [],
   "source": [
    "import pandas as pd\n",
    "import numpy as np\n",
    "import matplotlib.pyplot as plt\n",
    "%matplotlib inline\n",
    "import seaborn as sns\n",
    "import plotly.express as px\n",
    "import plotly.io as pio\n",
    "from sklearn.preprocessing import PowerTransformer, LabelEncoder\n",
    "\n",
    "# Set styles and defaults\n",
    "plt.style.use('seaborn-v0_8-whitegrid') \n",
    "pio.renderers.default = 'iframe' \n",
    "pio.templates.default = 'plotly_white' \n",
    "pd.set_option('display.float_format', \"{:.3f}\".format) \n",
    "sns.set_palette('viridis') "
   ]
  },
  {
   "cell_type": "markdown",
   "metadata": {},
   "source": [
    "### 1.2 Load Data"
   ]
  },
  {
   "cell_type": "code",
   "execution_count": null,
   "metadata": {},
   "outputs": [],
   "source": [
    "df = pd.read_csv('Housing.csv')"
   ]
  },
  {
   "cell_type": "markdown",
   "metadata": {},
   "source": [
    "### 1.3 Initial Data Inspection"
   ]
  },
  {
   "cell_type": "code",
   "execution_count": null,
   "metadata": {},
   "outputs": [],
   "source": [
    "print(\"First 5 rows of the dataframe:\")\n",
    "df.head()"
   ]
  },
  {
   "cell_type": "code",
   "execution_count": null,
   "metadata": {},
   "outputs": [],
   "source": [
    "print(\"\\nInformation about the dataframe:\")\n",
    "df.info()"
   ]
  },
  {
   "cell_type": "code",
   "execution_count": null,
   "metadata": {},
   "outputs": [],
   "source": [
    "print(\"\\nDescriptive statistics of the dataframe:\")\n",
    "df.describe().T"
   ]
  },
  {
   "cell_type": "code",
   "execution_count": null,
   "metadata": {},
   "outputs": [],
   "source": [
    "print(f\"\\nShape of the dataframe (rows, columns): {df.shape}\")"
   ]
  },
  {
   "cell_type": "code",
   "execution_count": null,
   "metadata": {},
   "outputs": [],
   "source": [
    "print(\"\\nMissing values per column:\")\n",
    "df.isna().sum()"
   ]
  },
  {
   "cell_type": "code",
   "execution_count": null,
   "metadata": {},
   "outputs": [],
   "source": [
    "print(f\"\\nNumber of duplicated rows: {df.duplicated().sum()}\")"
   ]
  },
  {
   "cell_type": "markdown",
   "metadata": {},
   "source": [
    "**Initial Findings:**\n",
    "- The dataset contains 545 rows and 13 columns.\n",
    "- There are no missing values.\n",
    "- There are no duplicated rows.\n",
    "- Several features are categorical (object type) and will need encoding for machine learning models."
   ]
  },
  {
   "cell_type": "markdown",
   "metadata": {},
   "source": [
    "### 1.4 Identify Categorical and Numerical Features"
   ]
  },
  {
   "cell_type": "code",
   "execution_count": null,
   "metadata": {},
   "outputs": [],
   "source": [
    "categorical_features = df.select_dtypes(include='object').columns.tolist()\n",
    "numerical_features = df.select_dtypes(include=np.number).columns.tolist()\n",
    "binary_categorical_features = ['mainroad', 'guestroom', 'basement', 'hotwaterheating', 'airconditioning', 'prefarea']\n",
    "multi_categorical_features = ['furnishingstatus']\n",
    "\n",
    "print(f\"Categorical Features: {categorical_features}\")\n",
    "print(f\"Numerical Features: {numerical_features}\")"
   ]
  },
  {
   "cell_type": "markdown",
   "metadata": {},
   "source": [
    "## 2. Exploratory Data Analysis (EDA) and Visualization\n",
    "\n",
    "Now, we'll dive deeper into the data using various visualization techniques to understand distributions, relationships, and potential outliers."
   ]
  },
  {
   "cell_type": "markdown",
   "metadata": {},
   "source": [
    "### 2.1 Univariate Analysis\n",
    "\n",
    "Analyzing individual features."
   ]
  },
  {
   "cell_type": "markdown",
   "metadata": {},
   "source": [
    "#### 2.1.1 Distribution of Target Variable (Price)"
   ]
  },
  {
   "cell_type": "code",
   "execution_count": null,
   "metadata": {},
   "outputs": [],
   "source": [
    "plt.figure(figsize=(12, 6))\n",
    "sns.histplot(df['price'], kde=True, bins=30)\n",
    "plt.title('Distribution of Price', fontsize=16)\n",
    "plt.xlabel('Price', fontsize=14)\n",
    "plt.ylabel('Frequency', fontsize=14)\n",
    "plt.show()\n",
    "\n",
    "plt.figure(figsize=(8, 4))\n",
    "sns.boxplot(x=df['price'])\n",
    "plt.title('Boxplot of Price', fontsize=16)\n",
    "plt.xlabel('Price', fontsize=14)\n",
    "plt.show()\n",
    "\n",
    "print(f\"Skewness of Price: {df['price'].skew():.2f}\")"
   ]
  },
  {
   "cell_type": "markdown",
   "metadata": {},
   "source": [
    "**Observation:** The `price` is right-skewed, which is common for price data. We might consider a transformation later."
   ]
  },
  {
   "cell_type": "markdown",
   "metadata": {},
   "source": [
    "#### 2.1.2 Distribution of Numerical Features"
   ]
  },
  {
   "cell_type": "code",
   "execution_count": null,
   "metadata": {},
   "outputs": [],
   "source": [
    "num_cols_for_dist = [col for col in numerical_features if col != 'price'] \n",
    "fig, axes = plt.subplots(nrows=len(num_cols_for_dist), ncols=2, figsize=(15, len(num_cols_for_dist) * 4))\n",
    "fig.suptitle('Distribution and Boxplot for Numerical Features', fontsize=18, y=1.02)\n",
    "fig.tight_layout(pad=5.0)\n",
    "\n",
    "for i, col in enumerate(num_cols_for_dist):\n",
    "    sns.histplot(df[col], kde=True, ax=axes[i, 0], bins=20)\n",
    "    axes[i, 0].set_title(f'Distribution of {col} (Skew: {df[col].skew():.2f})', fontsize=14)\n",
    "    axes[i, 0].set_xlabel(col, fontsize=12)\n",
    "    axes[i, 0].set_ylabel('Frequency', fontsize=12)\n",
    "    \n",
    "    sns.boxplot(x=df[col], ax=axes[i, 1])\n",
    "    axes[i, 1].set_title(f'Boxplot of {col}', fontsize=14)\n",
    "    axes[i, 1].set_xlabel(col, fontsize=12)\n",
    "\n",
    "plt.show()"
   ]
  },
  {
   "cell_type": "markdown",
   "metadata": {},
   "source": [
    "**Observations:**\n",
    "- `area` is also right-skewed.\n",
    "- `bedrooms`, `bathrooms`, `stories`, and `parking` are discrete numerical features. Their distributions show the common counts for each category."
   ]
  },
  {
   "cell_type": "markdown",
   "metadata": {},
   "source": [
    "#### 2.1.3 Frequency of Categorical Features"
   ]
  },
  {
   "cell_type": "code",
   "execution_count": null,
   "metadata": {},
   "outputs": [],
   "source": [
    "fig, axes = plt.subplots(nrows=(len(categorical_features) + 1) // 2, ncols=2, figsize=(15, len(categorical_features) * 2.5))\n",
    "axes = axes.flatten() \n",
    "fig.suptitle('Frequency of Categorical Features', fontsize=18, y=1.03)\n",
    "fig.tight_layout(pad=5.0)\n",
    "\n",
    "for i, col in enumerate(categorical_features):\n",
    "    sns.countplot(x=col, data=df, ax=axes[i], palette='viridis_r')\n",
    "    axes[i].set_title(f'Frequency of {col}', fontsize=14)\n",
    "    axes[i].set_xlabel(col, fontsize=12)\n",
    "    axes[i].set_ylabel('Count', fontsize=12)\n",
    "    axes[i].tick_params(axis='x', rotation=45)\n",
    "\n",
    "if len(categorical_features) % 2 != 0:\n",
    "    axes[-1].set_visible(False)\n",
    "\n",
    "plt.show()"
   ]
  },
  {
   "cell_type": "markdown",
   "metadata": {},
   "source": [
    "**Observations:**\n",
    "- Most houses are on the `mainroad`.\n",
    "- `guestroom`, `basement`, `hotwaterheating`, and `prefarea` have a majority of 'no' responses.\n",
    "- `airconditioning` is more balanced but still more 'no' than 'yes'.\n",
    "- `furnishingstatus` has 'semi-furnished' as the most common category."
   ]
  },
  {
   "cell_type": "markdown",
   "metadata": {},
   "source": [
    "### 2.2 Bivariate Analysis\n",
    "\n",
    "Exploring relationships between pairs of features, especially with the target variable `price`."
   ]
  },
  {
   "cell_type": "markdown",
   "metadata": {},
   "source": [
    "#### 2.2.1 Price vs. Area"
   ]
  },
  {
   "cell_type": "code",
   "execution_count": null,
   "metadata": {},
   "outputs": [],
   "source": [
    "plt.figure(figsize=(10, 6))\n",
    "sns.scatterplot(x='area', y='price', data=df, hue='furnishingstatus', size='stories', palette='plasma', alpha=0.7)\n",
    "plt.title('Price vs. Area', fontsize=16)\n",
    "plt.xlabel('Area (sq. ft)', fontsize=14)\n",
    "plt.ylabel('Price', fontsize=14)\n",
    "plt.legend(title='Furnishing Status & Stories')\n",
    "plt.show()"
   ]
  },
  {
   "cell_type": "markdown",
   "metadata": {},
   "source": [
    "**Observation:** There's a positive correlation between `area` and `price`. Houses with more stories tend to be larger and more expensive. Furnishing status also seems to play a role."
   ]
  },
  {
   "cell_type": "markdown",
   "metadata": {},
   "source": [
    "#### 2.2.2 Price vs. Categorical Features"
   ]
  },
  {
   "cell_type": "code",
   "execution_count": null,
   "metadata": {},
   "outputs": [],
   "source": [
    "fig, axes = plt.subplots(nrows=(len(categorical_features) + 1) // 2, ncols=2, figsize=(18, len(categorical_features) * 3))\n",
    "axes = axes.flatten()\n",
    "fig.suptitle('Price vs. Categorical Features', fontsize=18, y=1.03)\n",
    "fig.tight_layout(pad=5.0)\n",
    "\n",
    "for i, col in enumerate(categorical_features):\n",
    "    sns.boxplot(x=col, y='price', data=df, ax=axes[i], palette='magma_r')\n",
    "    axes[i].set_title(f'Price vs. {col}', fontsize=14)\n",
    "    axes[i].set_xlabel(col, fontsize=12)\n",
    "    axes[i].set_ylabel('Price', fontsize=12)\n",
    "    axes[i].tick_params(axis='x', rotation=45)\n",
    "\n",
    "if len(categorical_features) % 2 != 0:\n",
    "    axes[-1].set_visible(False)\n",
    "\n",
    "plt.show()"
   ]
  },
  {
   "cell_type": "markdown",
   "metadata": {},
   "source": [
    "**Observations:**\n",
    "- Houses on the `mainroad`, with a `guestroom`, `basement`, `hotwaterheating`, `airconditioning`, or in a `prefarea` tend to have higher median prices.\n",
    "- `Furnished` houses generally command higher prices than `unfurnished`, with `semi-furnished` in between."
   ]
  },
  {
   "cell_type": "markdown",
   "metadata": {},
   "source": [
    "#### 2.2.3 Price vs. Other Numerical Features"
   ]
  },
  {
   "cell_type": "code",
   "execution_count": null,
   "metadata": {},
   "outputs": [],
   "source": [
    "num_cols_for_biv = [col for col in numerical_features if col not in ['price', 'area']] \n",
    "fig, axes = plt.subplots(nrows=(len(num_cols_for_biv) + 1) // 2, ncols=2, figsize=(15, len(num_cols_for_biv) * 2.5))\n",
    "axes = axes.flatten()\n",
    "fig.suptitle('Price vs. Other Numerical Features', fontsize=18, y=1.03)\n",
    "fig.tight_layout(pad=5.0)\n",
    "\n",
    "for i, col in enumerate(num_cols_for_biv):\n",
    "    if df[col].nunique() < 10: \n",
    "        sns.boxplot(x=col, y='price', data=df, ax=axes[i], palette='coolwarm_r')\n",
    "    else: \n",
    "        sns.scatterplot(x=col, y='price', data=df, ax=axes[i], palette='coolwarm_r')\n",
    "    axes[i].set_title(f'Price vs. {col}', fontsize=14)\n",
    "    axes[i].set_xlabel(col, fontsize=12)\n",
    "    axes[i].set_ylabel('Price', fontsize=12)\n",
    "\n",
    "if len(num_cols_for_biv) % 2 != 0:\n",
    "    axes[-1].set_visible(False)\n",
    "    \n",
    "plt.show()"
   ]
  },
  {
   "cell_type": "markdown",
   "metadata": {},
   "source": [
    "**Observations:**\n",
    "- More `bedrooms`, `bathrooms`, `stories`, and `parking` spots generally correlate with higher prices, as seen from the boxplots."
   ]
  },
  {
   "cell_type": "markdown",
   "metadata": {},
   "source": [
    "### 2.3 Multivariate Analysis\n",
    "\n",
    "Looking at relationships between multiple features simultaneously."
   ]
  },
  {
   "cell_type": "markdown",
   "metadata": {},
   "source": [
    "#### 2.3.1 Pairplot of Numerical Features"
   ]
  },
  {
   "cell_type": "code",
   "execution_count": null,
   "metadata": {},
   "outputs": [],
   "source": [
    "sns.pairplot(df[numerical_features], diag_kind='kde', corner=True, plot_kws={'alpha':0.6, 's':80, 'edgecolor':'k'})\n",
    "plt.suptitle('Pairplot of Numerical Features', y=1.02, fontsize=16)\n",
    "plt.show()"
   ]
  },
  {
   "cell_type": "markdown",
   "metadata": {},
   "source": [
    "**Observation:** The pairplot confirms the positive correlation between `price` and `area`. It also shows some correlation between `bedrooms` and `stories`, and `bathrooms` and `stories`."
   ]
  },
  {
   "cell_type": "markdown",
   "metadata": {},
   "source": [
    "#### 2.3.2 Correlation Heatmap"
   ]
  },
  {
   "cell_type": "code",
   "execution_count": null,
   "metadata": {},
   "outputs": [],
   "source": [
    "# For the heatmap, we'll use the df_processed which has binary features encoded numerically\n",
    "df_temp_for_corr = df.copy()\n",
    "for col in binary_categorical_features:\n",
    "    df_temp_for_corr[col] = label_encoder.fit_transform(df_temp_for_corr[col])\n",
    "furnishing_dummies_corr = pd.get_dummies(df_temp_for_corr['furnishingstatus'], prefix='furnishing', dtype=int)\n",
    "df_temp_for_corr = pd.concat([df_temp_for_corr.drop('furnishingstatus', axis=1), furnishing_dummies_corr], axis=1)\n",
    "\n",
    "plt.figure(figsize=(12, 10))\n",
    "correlation_matrix = df_temp_for_corr.corr()\n",
    "sns.heatmap(correlation_matrix, annot=True, cmap='coolwarm', fmt=\".2f\", linewidths=.5)\n",
    "plt.title('Correlation Heatmap of All Features (Processed)', fontsize=16)\n",
    "plt.show()"
   ]
  },
  {
   "cell_type": "markdown",
   "metadata": {},
   "source": [
    "**Observations:**\n",
    "- `price` has the strongest positive correlation with `area` (0.54).\n",
    "- `bathrooms`, `stories`, and `airconditioning` also show notable positive correlations with `price`.\n",
    "- `furnishing_unfurnished` has a negative correlation with price, as expected.\n",
    "- There is some multicollinearity, for example, between `bathrooms` and `stories`."
   ]
  },
  {
   "cell_type": "markdown",
   "metadata": {},
   "source": [
    "## 3. Feature Engineering (Basic)\n",
    "\n",
    "Converting categorical features into a numerical format suitable for modeling."
   ]
  },
  {
   "cell_type": "markdown",
   "metadata": {},
   "source": [
    "### 3.1 Convert Binary Categorical Features to Numerical"
   ]
  },
  {
   "cell_type": "code",
   "execution_count": null,
   "metadata": {},
   "outputs": [],
   "source": [
    "df_processed = df.copy() # Create a copy for processing\n",
    "\n",
    "label_encoder = LabelEncoder()\n",
    "for col in binary_categorical_features:\n",
    "    df_processed[col] = label_encoder.fit_transform(df_processed[col])\n",
    "\n",
    "print(\"Binary features after Label Encoding:\")\n",
    "df_processed[binary_categorical_features].head()"
   ]
  },
  {
   "cell_type": "markdown",
   "metadata": {},
   "source": [
    "### 3.2 One-Hot Encode 'furnishingstatus'"
   ]
  },
  {
   "cell_type": "code",
   "execution_count": null,
   "metadata": {},
   "outputs": [],
   "source": [
    "furnishing_status_encoded = pd.get_dummies(df_processed['furnishingstatus'], prefix='furnishing', drop_first=True, dtype=int)\n",
    "df_processed = pd.concat([df_processed, furnishing_status_encoded], axis=1)\n",
    "df_processed.drop('furnishingstatus', axis=1, inplace=True)\n",
    "\n",
    "print(\"DataFrame after One-Hot Encoding 'furnishingstatus':\")\n",
    "df_processed.head()"
   ]
  },
  {
   "cell_type": "code",
   "execution_count": null,
   "metadata": {},
   "outputs": [],
   "source": [
    "print(\"\\nInformation about the processed dataframe:\")\n",
    "df_processed.info()"
   ]
  },
  {
   "cell_type": "markdown",
   "metadata": {},
   "source": [
    "**Note:** `df_processed` now contains the numerically encoded categorical features. `df_transformed` will be used for transformations on numerical features."
   ]
  },
  {
   "cell_type": "markdown",
   "metadata": {},
   "source": [
    "## 4. Data Transformation\n",
    "\n",
    "Addressing skewness in numerical features to potentially improve model performance."
   ]
  },
  {
   "cell_type": "markdown",
   "metadata": {},
   "source": [
    "### 4.1 Skewness and Transformation of Numerical Features"
   ]
  },
  {
   "cell_type": "code",
   "execution_count": null,
   "metadata": {},
   "outputs": [],
   "source": [
    "df_transformed = df_processed.copy()\n",
    "\n",
    "skewed_features = ['price', 'area'] \n",
    "power_transformer = PowerTransformer(method='yeo-johnson') \n",
    "\n",
    "fig, axes = plt.subplots(nrows=len(skewed_features), ncols=2, figsize=(15, len(skewed_features) * 4))\n",
    "fig.suptitle('Original vs. Transformed Distributions for Skewed Features', fontsize=18, y=1.03)\n",
    "fig.tight_layout(pad=5.0)\n",
    "\n",
    "for i, col in enumerate(skewed_features):\n",
    "    sns.histplot(df_transformed[col], kde=True, ax=axes[i, 0], bins=30, color='skyblue')\n",
    "    axes[i, 0].set_title(f'Original Distribution of {col} (Skewness: {df_transformed[col].skew():.2f})', fontsize=14)\n",
    "    axes[i, 0].set_xlabel(f'Original {col}', fontsize=12)\n",
    "    axes[i, 0].set_ylabel('Frequency', fontsize=12)\n",
    "    \n",
    "    df_transformed[col] = power_transformer.fit_transform(df_transformed[[col]])\n",
    "    \n",
    "    sns.histplot(df_transformed[col], kde=True, ax=axes[i, 1], bins=30, color='lightcoral')\n",
    "    axes[i, 1].set_title(f'Transformed Distribution of {col} (Skewness: {df_transformed[col].skew():.2f})', fontsize=14)\n",
    "    axes[i, 1].set_xlabel(f'Transformed {col}', fontsize=12)\n",
    "    axes[i, 1].set_ylabel('Frequency', fontsize=12)\n",
    "\n",
    "plt.show()\n",
    "\n",
    "print(\"\\nSkewness of all numerical features (original df_processed for comparison):\")\n",
    "print(df_processed[numerical_features].skew())\n",
    "print(\"\\nSkewness of 'price' and 'area' in df_transformed:\")\n",
    "print(df_transformed[skewed_features].skew())"
   ]
  },
  {
   "cell_type": "markdown",
   "metadata": {},
   "source": [
    "**Observation:** The PowerTransformer significantly reduced the skewness of `price` and `area`, making their distributions more symmetric."
   ]
  },
  {
   "cell_type": "markdown",
   "metadata": {},
   "source": [
    "## 5. Advanced Visualizations & Insights\n",
    "\n",
    "Using interactive plots and grouped analyses to uncover more complex patterns."
   ]
  },
  {
   "cell_type": "markdown",
   "metadata": {},
   "source": [
    "### 5.1 Interactive Scatter Plot: Price vs. Area with Hover Data\n",
    "\n",
    "Using the original `df` for easier interpretation of categorical values in hover data."
   ]
  },
  {
   "cell_type": "code",
   "execution_count": null,
   "metadata": {},
   "outputs": [],
   "source": [
    "fig = px.scatter(df, x='area', y='price', \n",
    "                 color='bedrooms', \n",
    "                 size='bathrooms', \n",
    "                 hover_data=['stories', 'airconditioning', 'furnishingstatus'],\n",
    "                 title='Interactive Scatter Plot: Price vs. Area',\n",
    "                 labels={'area': 'Area (sq. ft)', 'price': 'Price', 'bedrooms': 'Bedrooms'},\n",
    "                 color_continuous_scale=px.colors.sequential.Viridis)\n",
    "fig.show()"
   ]
  },
  {
   "cell_type": "markdown",
   "metadata": {},
   "source": [
    "**Insight:** Hovering over points can reveal specific combinations of features for high or low priced houses."
   ]
  },
  {
   "cell_type": "markdown",
   "metadata": {},
   "source": [
    "### 5.2 Sunburst Chart: Furnishing Status within Preference Area"
   ]
  },
  {
   "cell_type": "code",
   "execution_count": null,
   "metadata": {},
   "outputs": [],
   "source": [
    "sunburst_data = df.groupby(['prefarea', 'furnishingstatus']).size().reset_index(name='count')\n",
    "fig = px.sunburst(sunburst_data, path=['prefarea', 'furnishingstatus'], values='count',\n",
    "                  title='Housing Distribution: Furnishing Status within Preference Areas',\n",
    "                  color_discrete_sequence=px.colors.qualitative.Pastel)\n",
    "fig.show()"
   ]
  },
  {
   "cell_type": "markdown",
   "metadata": {},
   "source": [
    "**Insight:** This chart shows the proportion of furnishing types within preferred and non-preferred areas. For instance, we can see if semi-furnished is more common in preferred areas."
   ]
  },
  {
   "cell_type": "markdown",
   "metadata": {},
   "source": [
    "### 5.3 Mean Price by Number of Bedrooms and Bathrooms"
   ]
  },
  {
   "cell_type": "code",
   "execution_count": null,
   "metadata": {},
   "outputs": [],
   "source": [
    "price_by_bed_bath = df.groupby(['bedrooms', 'bathrooms'])['price'].mean().unstack()\n",
    "\n",
    "plt.figure(figsize=(10, 7))\n",
    "sns.heatmap(price_by_bed_bath, annot=True, fmt=\".0f\", cmap=\"YlGnBu\", linewidths=.5)\n",
    "plt.title('Mean Price by Number of Bedrooms and Bathrooms', fontsize=16)\n",
    "plt.xlabel('Number of Bathrooms', fontsize=14)\n",
    "plt.ylabel('Number of Bedrooms', fontsize=14)\n",
    "plt.show()"
   ]
  },
  {
   "cell_type": "markdown",
   "metadata": {},
   "source": [
    "**Insight:** The heatmap clearly shows that increasing the number of bedrooms and bathrooms generally leads to a higher mean price. Houses with 4 bedrooms and 4 bathrooms have the highest mean price."
   ]
  },
  {
   "cell_type": "markdown",
   "metadata": {},
   "source": [
    "### 5.4 Impact of Air Conditioning on Price by Furnishing Status"
   ]
  },
  {
   "cell_type": "code",
   "execution_count": null,
   "metadata": {},
   "outputs": [],
   "source": [
    "plt.figure(figsize=(12, 7))\n",
    "sns.boxplot(x='furnishingstatus', y='price', hue='airconditioning', data=df, palette='Set2_r')\n",
    "plt.title('Impact of Air Conditioning on Price, Grouped by Furnishing Status', fontsize=16)\n",
    "plt.xlabel('Furnishing Status', fontsize=14)\n",
    "plt.ylabel('Price', fontsize=14)\n",
    "plt.xticks(rotation=45)\n",
    "plt.legend(title='Air Conditioning')\n",
    "plt.show()"
   ]
  },
  {
   "cell_type": "markdown",
   "metadata": {},
   "source": [
    "**Insight:** Across all furnishing statuses, houses with air conditioning have a noticeably higher median price and a wider price range, indicating its significant impact on value."
   ]
  },
  {
   "cell_type": "markdown",
   "metadata": {},
   "source": [
    "### 5.5 Price Distribution by Number of Stories and Basement"
   ]
  },
  {
   "cell_type": "code",
   "execution_count": null,
   "metadata": {},
   "outputs": [],
   "source": [
    "fig = px.violin(df, y=\"price\", x=\"stories\", color=\"basement\", box=True, points=\"all\",\n",
    "                hover_data=df.columns,\n",
    "                title=\"Price Distribution by Stories and Basement Presence\",\n",
    "                labels={'stories':'Number of Stories', 'price':'Price', 'basement':'Basement (Yes/No)'})\n",
    "fig.show()"
   ]
  },
  {
   "cell_type": "markdown",
   "metadata": {},
   "source": [
    "**Insight:** Houses with more stories tend to be more expensive. The presence of a basement also generally increases the price, especially for houses with fewer stories."
   ]
  },
  {
   "cell_type": "markdown",
   "metadata": {},
   "source": [
    "## 6. Summary of EDA Findings\n",
    "\n",
    "1.  **Data Quality:** The dataset is clean with no missing values or duplicates.\n",
    "2.  **Target Variable (`price`):** Right-skewed, indicating that most houses are in the lower to mid-price range, with fewer expensive houses. Power transformation helps normalize its distribution.\n",
    "3.  **Key Numerical Predictors:** `area` is strongly positively correlated with `price` and is also right-skewed. `bathrooms` and `stories` also show a good positive correlation with price.\n",
    "4.  **Key Categorical Predictors:** \n",
    "    *   `airconditioning` and `prefarea` have a significant positive impact on price.\n",
    "    *   `furnishingstatus` shows that furnished and semi-furnished houses tend to be more expensive than unfurnished ones.\n",
    "    *   `mainroad` access, `guestroom`, and `basement` presence also positively influence the price.\n",
    "    *   `hotwaterheating` is a rare feature but houses with it tend to be more expensive.\n",
    "5.  **Multicollinearity:** Some multicollinearity exists (e.g., `stories` and `bathrooms`), which might need consideration in some modeling techniques.\n",
    "6.  **Transformations:** `price` and `area` benefit from Yeo-Johnson power transformation to handle skewness.\n",
    "7.  **Interactions:** Advanced visualizations revealed interesting interactions, such as air conditioning's impact varying slightly across furnishing statuses, and basements having a more pronounced effect on price for houses with fewer stories.\n",
    "\n",
    "This EDA provides a solid foundation for feature selection, preprocessing, and model building for predicting house prices."
   ]
  }
 ],
 "metadata": {
  "kernelspec": {
   "display_name": "Python 3 (ipykernel)",
   "language": "python",
   "name": "python3"
  },
  "language_info": {
   "codemirror_mode": {
    "name": "ipython",
    "version": 3
   },
   "file_extension": ".py",
   "mimetype": "text/x-python",
   "name": "python",
   "nbconvert_exporter": "python",
   "pygments_lexer": "ipython3",
   "version": "3.11.4"
  }
 },
 "nbformat": 4,
 "nbformat_minor": 5
}
